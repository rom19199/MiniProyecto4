{
 "cells": [
  {
   "cell_type": "markdown",
   "metadata": {},
   "source": [
    "# Universidad del Valle de Guatemala\n",
    "## Miniproyecto 4\n",
    "\n",
    "### Integrantes:\n",
    "* Andrei Portales 19825\n",
    "* Hugo Roman 19199\n"
   ]
  },
  {
   "cell_type": "markdown",
   "metadata": {},
   "source": [
    "Datos:\n",
    "\n",
    "Proveedor 1 - Mountain Mega Computing\n",
    "* 100 solicitudes por segundo\n",
    "\n",
    "Proveedor 2 - Pizzita computing\n",
    "* 100/10 solicitudes por segundo\n",
    "\n",
    "General\n",
    "* Para los 2 primeros años / 2400 solicitudes por minuto no se excederan"
   ]
  },
  {
   "cell_type": "code",
   "execution_count": 1,
   "metadata": {},
   "outputs": [],
   "source": [
    "import math\n",
    "import numpy as np"
   ]
  },
  {
   "cell_type": "code",
   "execution_count": 4,
   "metadata": {},
   "outputs": [],
   "source": [
    "factorial = lambda n: np.math.factorial(n)\n",
    "\n",
    "# Poisson - Simula solicitudes de clientes\n",
    "def poisson(x, lamb):\n",
    "    return (lamb**x)*(np.e**(-lamb)) / factorial(x)\n",
    "\n",
    "# Variable aleatoria exponencial - Simula el tiempo de servicio de cada cliente\n",
    "def exponencial_random(lamb, x):\n",
    "    return lamb * np.exp(-lamb * x)\n",
    "\n",
    "def cdf_inv(t, lamb):\n",
    "    return -(np.log(1-t)/lamb)\n",
    "\n",
    "def cdf_inv_exp(t, lamb):\n",
    "    return 1 - np.e**(-(lamb*t))"
   ]
  },
  {
   "cell_type": "code",
   "execution_count": null,
   "metadata": {},
   "outputs": [],
   "source": [
    "server1 = {\n",
    "    'persecond': 100,\n",
    "}\n",
    "\n",
    "server2 = {\n",
    "    'persecond': 10,\n",
    "}"
   ]
  },
  {
   "cell_type": "code",
   "execution_count": 56,
   "metadata": {},
   "outputs": [
    {
     "data": {
      "text/plain": [
       "0.039860996809147134"
      ]
     },
     "execution_count": 56,
     "metadata": {},
     "output_type": "execute_result"
    }
   ],
   "source": [
    "import random\n",
    "poisson(100, 100)"
   ]
  },
  {
   "cell_type": "code",
   "execution_count": null,
   "metadata": {},
   "outputs": [],
   "source": [
    "### Simular una hora de ejecucion\n",
    "\n",
    "def simulate(time, server):\n",
    "    total_requests = 0\n",
    "    waiting_requests = 0\n",
    "\n",
    "    poisson(100, random.randint(0, 10))\n",
    "\n",
    "    "
   ]
  }
 ],
 "metadata": {
  "kernelspec": {
   "display_name": "Python 3.9.13 64-bit (microsoft store)",
   "language": "python",
   "name": "python3"
  },
  "language_info": {
   "codemirror_mode": {
    "name": "ipython",
    "version": 3
   },
   "file_extension": ".py",
   "mimetype": "text/x-python",
   "name": "python",
   "nbconvert_exporter": "python",
   "pygments_lexer": "ipython3",
   "version": "3.9.13"
  },
  "orig_nbformat": 4,
  "vscode": {
   "interpreter": {
    "hash": "52fef9f371462526e6c16fbedf2b5b9bc32d90752958a415cf9672d41d7c1c70"
   }
  }
 },
 "nbformat": 4,
 "nbformat_minor": 2
}

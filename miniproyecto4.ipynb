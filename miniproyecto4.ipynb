{
 "cells": [
  {
   "cell_type": "markdown",
   "metadata": {},
   "source": [
    "# Universidad del Valle de Guatemala\n",
    "## Miniproyecto 4\n",
    "\n",
    "### Integrantes:\n",
    "* Andrei Portales 19825\n",
    "* Hugo Roman 19199\n"
   ]
  },
  {
   "cell_type": "markdown",
   "metadata": {},
   "source": [
    "Datos:\n",
    "\n",
    "Proveedor 1 - Mountain Mega Computing\n",
    "* 100 solicitudes por segundo\n",
    "\n",
    "Proveedor 2 - Pizzita computing\n",
    "* 100/10 solicitudes por segundo\n",
    "\n",
    "General\n",
    "* Para los 2 primeros años / 2400 solicitudes por minuto no se excederan"
   ]
  },
  {
   "cell_type": "code",
   "execution_count": 1,
   "metadata": {},
   "outputs": [],
   "source": [
    "import math\n",
    "import numpy as np"
   ]
  },
  {
   "cell_type": "code",
   "execution_count": 3,
   "metadata": {},
   "outputs": [],
   "source": [
    "# Poisson - Simula solicitudes de clientes\n",
    "def poisson(lamb, x):\n",
    "    return (lamb**x)*np.exp(-lamb)/math.factorial(x)\n",
    "\n",
    "# Variable aleatoria exponencial - Simula el tiempo de servicio de cada cliente\n",
    "def exponencial_random(lamb, x):\n",
    "    return 1 - np.exp(-lamb*x)"
   ]
  }
 ],
 "metadata": {
  "kernelspec": {
   "display_name": "Python 3.9.13 64-bit (microsoft store)",
   "language": "python",
   "name": "python3"
  },
  "language_info": {
   "codemirror_mode": {
    "name": "ipython",
    "version": 3
   },
   "file_extension": ".py",
   "mimetype": "text/x-python",
   "name": "python",
   "nbconvert_exporter": "python",
   "pygments_lexer": "ipython3",
   "version": "3.9.13"
  },
  "orig_nbformat": 4,
  "vscode": {
   "interpreter": {
    "hash": "52fef9f371462526e6c16fbedf2b5b9bc32d90752958a415cf9672d41d7c1c70"
   }
  }
 },
 "nbformat": 4,
 "nbformat_minor": 2
}

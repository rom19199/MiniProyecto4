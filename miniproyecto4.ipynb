{
 "cells": [
  {
   "cell_type": "markdown",
   "metadata": {},
   "source": [
    "# Universidad del Valle de Guatemala\n",
    "## Miniproyecto 4\n",
    "\n",
    "### Integrantes:\n",
    "* Andrei Portales 19825\n",
    "* Hugo Roman 19199\n"
   ]
  },
  {
   "cell_type": "markdown",
   "metadata": {},
   "source": [
    "Datos:\n",
    "\n",
    "Proveedor 1 - Mountain Mega Computing\n",
    "* 100 solicitudes por segundo\n",
    "\n",
    "Proveedor 2 - Pizzita computing\n",
    "* 100/10 solicitudes por segundo\n",
    "\n",
    "General\n",
    "* Para los 2 primeros años / 2400 solicitudes por minuto no se excederan"
   ]
  },
  {
   "cell_type": "markdown",
   "metadata": {},
   "source": [
    "Modele, simule y analice el comportamiento de ambos sistemas durante una hora de ejecución de C3, y\n",
    "para cada sistema responda:\n",
    "\n",
    "* ¿Cuántas solicitudes atendió cada servidor?\n",
    "* ¿Cuánto tiempo estuvo cada servidor ocupado?\n",
    "* ¿Cuánto tiempo estuvo cada servidor desocupado (iddle)?\n",
    "* ¿Cuánto tiempo en total estuvieron las solicitudes en cola?\n",
    "* En promedio ¿cuánto tiempo estuvo cada solicitud en cola?\n",
    "* En promedio, ¿cuántas solicitudes estuvieron en cola cada segundo?\n",
    "* ¿Cuál es el momento de la salida de la última solicitud?"
   ]
  },
  {
   "cell_type": "code",
   "execution_count": 1,
   "metadata": {},
   "outputs": [],
   "source": [
    "import math\n",
    "import numpy as np"
   ]
  },
  {
   "cell_type": "code",
   "execution_count": 3,
   "metadata": {},
   "outputs": [],
   "source": [
    "# Poisson - Simula solicitudes de clientes\n",
    "def poisson(lamb, x):\n",
    "    return x - (1/lamb * math.log(np.random()))\n",
    "\n",
    "# Variable aleatoria exponencial - Simula el tiempo de servicio de cada cliente\n",
    "def exponencial_random(lamb):\n",
    "    return np.random.exponential(1/lamb)"
   ]
  },
  {
   "cell_type": "code",
   "execution_count": 2,
   "metadata": {},
   "outputs": [],
   "source": [
    "mountain_mega = {\n",
    "    'persecond': 100,\n",
    "    'servers': 1,\n",
    "\n",
    "    'solicitudes': 0,\n",
    "    'timepo_ocupado': 0,\n",
    "    'timepo_libre': 0,\n",
    "    'tiempo_en_cola': 0,\n",
    "    'promedio_tiempo_en_cola': 0,\n",
    "    'promedio_solicitudes_cola': 0,\n",
    "    'momento_ultimo_evento': 0,\n",
    "}\n",
    "\n",
    "pizzita = {\n",
    "    'persecond': 10,\n",
    "    'servers': 10,\n",
    "\n",
    "    'solicitudes': 0,\n",
    "    'timepo_ocupado': 0,\n",
    "    'timepo_libre': 0,\n",
    "    'tiempo_en_cola': 0,\n",
    "    'promedio_tiempo_en_cola': 0,\n",
    "    'promedio_solicitudes_cola': 0,\n",
    "    'momento_ultimo_evento': 0,\n",
    "}"
   ]
  },
  {
   "cell_type": "markdown",
   "metadata": {},
   "source": [
    "2. Determine empíricamente cuántos servidores se necesitaría “alquilar” en Pizzita computing para asegurar\n",
    "que siempre habrá al menos unservidordisponibleparaatenderunasolicituddada(enotraspalabras,una\n",
    "solicitud nunca tiene que esperar en cola).\n",
    "3. Se espera que a partir del tercer año del lanza miento de su aplicación, la cantidad de usuarios sufra una lza,\n",
    "y por tanto deberán atender como máximo 6000 solicitudes por minuto. Resuelva el inciso 1 y 2 para esta\n",
    "nueva configuración.\n",
    "4. Emita una recomendación para la junta directiva"
   ]
  }
 ],
 "metadata": {
  "kernelspec": {
   "display_name": "Python 3.9.13 64-bit (microsoft store)",
   "language": "python",
   "name": "python3"
  },
  "language_info": {
   "codemirror_mode": {
    "name": "ipython",
    "version": 3
   },
   "file_extension": ".py",
   "mimetype": "text/x-python",
   "name": "python",
   "nbconvert_exporter": "python",
   "pygments_lexer": "ipython3",
   "version": "3.9.13"
  },
  "orig_nbformat": 4,
  "vscode": {
   "interpreter": {
    "hash": "52fef9f371462526e6c16fbedf2b5b9bc32d90752958a415cf9672d41d7c1c70"
   }
  }
 },
 "nbformat": 4,
 "nbformat_minor": 2
}
